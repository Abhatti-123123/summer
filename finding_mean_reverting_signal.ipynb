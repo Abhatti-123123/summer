{
  "nbformat": 4,
  "nbformat_minor": 0,
  "metadata": {
    "colab": {
      "provenance": []
    },
    "kernelspec": {
      "name": "python3",
      "display_name": "Python 3"
    },
    "language_info": {
      "name": "python"
    }
  },
  "cells": [
    {
      "cell_type": "code",
      "execution_count": 2,
      "metadata": {
        "id": "zxCR98OEieQt"
      },
      "outputs": [],
      "source": [
        "# Hands-on Assignment: Advanced Statistical Reasoning in Quant Signals\n",
        "# ----------------------------------------------------------------------\n",
        "# This notebook is designed to help you APPLY the statistical tools you've learned.\n",
        "# It covers cointegration, Granger causality, regime filtering, hypothesis testing,\n",
        "# entropy, surprise detection, IC scoring, and risk-adjusted evaluation.\n",
        "#\n",
        "# You will use real financial data (from yfinance) to build, test, and validate alpha signals.\n",
        "# This file contains comments only — you must implement all code.\n",
        "\n"
      ]
    },
    {
      "cell_type": "code",
      "source": [
        "\n",
        "# -------------------------------\n",
        "# STEP 0: IMPORTS + SETUP\n",
        "# -------------------------------\n",
        "# Import all necessary libraries: pandas, numpy, yfinance, matplotlib, scipy.stats, statsmodels\n",
        "import pandas as pd\n",
        "import numpy as np\n",
        "import matplotlib.pyplot as plt\n",
        "import yfinance as yf\n",
        "import scipy.stats as sc\n",
        "import statsmodels.api as sm\n",
        "from statsmodels.tsa.stattools import coint, adfuller, kpss\n",
        "from statsmodels.graphics.tsaplots import plot_acf, plot_pacf\n",
        "from itertools import combinations"
      ],
      "metadata": {
        "id": "R28aCjeninkE"
      },
      "execution_count": 48,
      "outputs": []
    },
    {
      "cell_type": "code",
      "source": [
        "# -------------------------------\n",
        "# STEP 1: DATA ACQUISITION\n",
        "# -------------------------------\n",
        "# Download daily adjusted close price data for the following tickers over the last 5 years:\n",
        "# ['SPY', 'QQQ', 'IWM', 'AAPL', 'MSFT', 'NVDA', 'VIX', 'XLK', 'XLF']\n",
        "# Use yfinance. Align the data on dates. Drop missing values.\n",
        "tickers = ['SPY', 'QQQ', 'IWM', 'AAPL', 'MSFT', 'NVDA', '^VIX', 'XLK', 'XLF']\n",
        "data_dict = {}\n",
        "\n",
        "for ticker in tickers:\n",
        "  data = yf.Ticker(ticker)\n",
        "  data_dict[ticker] = data.history(\n",
        "    start=\"2010-01-01\",\n",
        "    end=\"2017-01-01\",    # end is exclusive, so this gives you through 2016-12-31\n",
        "    interval=\"1d\",       # daily bars\n",
        "    auto_adjust=True     # optional: get adjusted prices\n",
        "    )\n"
      ],
      "metadata": {
        "id": "Z_D-n0u9jevT"
      },
      "execution_count": 100,
      "outputs": []
    },
    {
      "cell_type": "code",
      "source": [
        "# -------------------------------\n",
        "# STEP 2: COINTEGRATION TESTING\n",
        "# -------------------------------\n",
        "# Choose any two tickers (e.g., SPY and QQQ)\n",
        "# 1. Test if they are non-stationary (ADF test)\n",
        "# 2. Run the Engle-Granger cointegration test between them\n",
        "# 3. If cointegrated, plot the residual spread over time\n",
        "# 4. Mark Z-score ±2 levels on the spread plot (for future signal ideas)\n"
      ],
      "metadata": {
        "id": "93UAMyCXn66P"
      },
      "execution_count": 101,
      "outputs": []
    },
    {
      "cell_type": "code",
      "source": [
        "def stationarity_summary(series):\n",
        "  adf_stat, adf_p, _, _, _, _ = adfuller(series)\n",
        "  kpss_stat, kpss_p, _, _ = kpss(series, regression='c')\n",
        "  return pd.Series({\n",
        "      \"ADF_p\": adf_p,\n",
        "      \"ADF_stat\": adf_stat,\n",
        "      \"KPSS_p\": kpss_p,\n",
        "      \"KPSS_stat\": kpss_stat\n",
        "      })"
      ],
      "metadata": {
        "id": "Pnxl-w-SvMM3"
      },
      "execution_count": 102,
      "outputs": []
    },
    {
      "cell_type": "code",
      "source": [
        "\n",
        "Xt = data_dict['AAPL']['Close']\n",
        "Yt = data_dict['SPY']['Close']\n",
        "X_results = stationarity_summary(Xt)\n",
        "Y_results = stationarity_summary(Yt)\n"
      ],
      "metadata": {
        "colab": {
          "base_uri": "https://localhost:8080/"
        },
        "id": "LW6Pl_fsqHmo",
        "outputId": "7f47f89f-147c-4545-c64f-f587054b08d3"
      },
      "execution_count": 103,
      "outputs": [
        {
          "output_type": "stream",
          "name": "stderr",
          "text": [
            "<ipython-input-102-8162d0cd8de9>:3: InterpolationWarning: The test statistic is outside of the range of p-values available in the\n",
            "look-up table. The actual p-value is smaller than the p-value returned.\n",
            "\n",
            "  kpss_stat, kpss_p, _, _ = kpss(series, regression='c')\n",
            "<ipython-input-102-8162d0cd8de9>:3: InterpolationWarning: The test statistic is outside of the range of p-values available in the\n",
            "look-up table. The actual p-value is smaller than the p-value returned.\n",
            "\n",
            "  kpss_stat, kpss_p, _, _ = kpss(series, regression='c')\n"
          ]
        }
      ]
    },
    {
      "cell_type": "code",
      "source": [
        "def compute_charts(Series):\n",
        "  plt.figure(figsize=(10,6))\n",
        "  plt.plot(Series, label=\"Level\")\n",
        "  plt.legend()\n",
        "  plt.show()\n",
        "\n",
        "  plot_acf(Series, lags=40); plt.title(\"ACF of Level\"); plt.show()\n",
        "  plot_pacf(Series, lags=40); plt.title(\"PACF of Level\"); plt.show()"
      ],
      "metadata": {
        "id": "TzyRdw6n1oEt"
      },
      "execution_count": 104,
      "outputs": []
    },
    {
      "cell_type": "code",
      "source": [
        "def compute_residuals(X, Y):\n",
        "  X = sm.add_constant(X)\n",
        "  model = sm.OLS(Y, X).fit()\n",
        "  return model.resid"
      ],
      "metadata": {
        "id": "iaMc04R51Gn2"
      },
      "execution_count": 105,
      "outputs": []
    },
    {
      "cell_type": "code",
      "source": [
        "dXt = Xt.diff().dropna()\n",
        "dYt = Yt.diff().dropna()"
      ],
      "metadata": {
        "id": "H5nHSUOS6YMI"
      },
      "execution_count": 36,
      "outputs": []
    },
    {
      "cell_type": "code",
      "source": [
        "resid_dX_dY = compute_residuals(dXt, dYt)"
      ],
      "metadata": {
        "id": "hD-OKOvl178D"
      },
      "execution_count": 37,
      "outputs": []
    },
    {
      "cell_type": "code",
      "source": [
        "coint_pairs = []"
      ],
      "metadata": {
        "id": "bw8OUV4hA3-q"
      },
      "execution_count": 106,
      "outputs": []
    },
    {
      "cell_type": "code",
      "source": [
        "for ticker1, ticker2 in combinations(tickers, 2):\n",
        "  Xt = data_dict[ticker1]['Close']\n",
        "  Yt = data_dict[ticker2]['Close']\n",
        "  stats, p_val, _ = coint(Xt, Yt)\n",
        "  if p_val <= 0.05:\n",
        "    coint_pairs.append((ticker1, ticker2))"
      ],
      "metadata": {
        "id": "gbnoGvK8_eA9"
      },
      "execution_count": 107,
      "outputs": []
    },
    {
      "cell_type": "code",
      "source": [
        "data_dict['^VIX'].index = data_dict['^VIX'].index.tz_convert(\"America/New_York\").normalize()"
      ],
      "metadata": {
        "id": "AO0RLvweOc-t"
      },
      "execution_count": 108,
      "outputs": []
    },
    {
      "cell_type": "code",
      "source": [
        "common = data_dict['XLK']['Close'].index.intersection(data_dict['^VIX']['Close'].index)"
      ],
      "metadata": {
        "id": "-er884hPNYJy"
      },
      "execution_count": 109,
      "outputs": []
    },
    {
      "cell_type": "code",
      "source": [
        "stat_err_pairs = []"
      ],
      "metadata": {
        "id": "fxepby7A7WHD"
      },
      "execution_count": 110,
      "outputs": []
    },
    {
      "cell_type": "code",
      "source": [
        "for pair in coint_pairs:\n",
        "  ticker1 = pair[0]\n",
        "  ticker2 = pair[1]\n",
        "  Xt = data_dict[ticker1]['Close']\n",
        "  Yt = data_dict[ticker2]['Close']\n",
        "  residuals = compute_residuals(Xt, Yt)\n",
        "  summary_tests = stationarity_summary(residuals)\n",
        "  if (summary_tests.ADF_p < 0.05) | (summary_tests.KPSS_p > 0.05):\n",
        "    stat_err_pairs.append((ticker1, ticker2, residuals))\n"
      ],
      "metadata": {
        "colab": {
          "base_uri": "https://localhost:8080/"
        },
        "id": "KLsVHeNy9dgo",
        "outputId": "e6f78ea2-97fe-4287-8cf7-801ac4eed211"
      },
      "execution_count": 111,
      "outputs": [
        {
          "output_type": "stream",
          "name": "stderr",
          "text": [
            "<ipython-input-102-8162d0cd8de9>:3: InterpolationWarning: The test statistic is outside of the range of p-values available in the\n",
            "look-up table. The actual p-value is smaller than the p-value returned.\n",
            "\n",
            "  kpss_stat, kpss_p, _, _ = kpss(series, regression='c')\n",
            "<ipython-input-102-8162d0cd8de9>:3: InterpolationWarning: The test statistic is outside of the range of p-values available in the\n",
            "look-up table. The actual p-value is smaller than the p-value returned.\n",
            "\n",
            "  kpss_stat, kpss_p, _, _ = kpss(series, regression='c')\n"
          ]
        }
      ]
    },
    {
      "cell_type": "code",
      "source": [
        "def stationarity_summary_trend(series):\n",
        "  adf_stat, adf_p, _, _, _, _ = adfuller(series, regression=\"ct\")\n",
        "  kpss_stat, kpss_p, _, _ = kpss(series, regression='c')\n",
        "  return pd.Series({\n",
        "      \"ADF_p\": adf_p,\n",
        "      \"ADF_stat\": adf_stat,\n",
        "      \"KPSS_p\": kpss_p,\n",
        "      \"KPSS_stat\": kpss_stat\n",
        "      })"
      ],
      "metadata": {
        "id": "9bS-ud9wQ6wm"
      },
      "execution_count": 112,
      "outputs": []
    },
    {
      "cell_type": "code",
      "source": [
        "print(coint_pairs)"
      ],
      "metadata": {
        "colab": {
          "base_uri": "https://localhost:8080/"
        },
        "id": "doWCbtvuLoxK",
        "outputId": "9b748318-f9e1-49a2-8110-4f5c1d639615"
      },
      "execution_count": 115,
      "outputs": [
        {
          "output_type": "stream",
          "name": "stdout",
          "text": [
            "[('^VIX', 'XLK'), ('^VIX', 'XLF')]\n"
          ]
        }
      ]
    },
    {
      "cell_type": "code",
      "source": [
        "Xt = data_dict[coint_pairs[0][0]]['Close']\n",
        "Yt = data_dict[coint_pairs[0][1]]['Close']"
      ],
      "metadata": {
        "id": "1yPJUoPaWe4T"
      },
      "execution_count": 121,
      "outputs": []
    },
    {
      "cell_type": "code",
      "source": [
        "resid = compute_residuals(data_dict[coint_pairs[0][0]]['Close'], data_dict[coint_pairs[0][1]]['Close'])"
      ],
      "metadata": {
        "id": "XqNkXHvyTE_1"
      },
      "execution_count": 116,
      "outputs": []
    },
    {
      "cell_type": "code",
      "source": [
        "stationarity_summary_trend(resid)"
      ],
      "metadata": {
        "colab": {
          "base_uri": "https://localhost:8080/",
          "height": 279
        },
        "id": "gfJZVo6bREze",
        "outputId": "dd0e41d5-8756-4b73-ddc1-4d7d48f5bf3d"
      },
      "execution_count": 117,
      "outputs": [
        {
          "output_type": "stream",
          "name": "stderr",
          "text": [
            "<ipython-input-112-f95cb3a79e44>:3: InterpolationWarning: The test statistic is outside of the range of p-values available in the\n",
            "look-up table. The actual p-value is smaller than the p-value returned.\n",
            "\n",
            "  kpss_stat, kpss_p, _, _ = kpss(series, regression='c')\n"
          ]
        },
        {
          "output_type": "execute_result",
          "data": {
            "text/plain": [
              "ADF_p        0.059524\n",
              "ADF_stat    -3.342724\n",
              "KPSS_p       0.010000\n",
              "KPSS_stat    5.356834\n",
              "dtype: float64"
            ],
            "text/html": [
              "<div>\n",
              "<style scoped>\n",
              "    .dataframe tbody tr th:only-of-type {\n",
              "        vertical-align: middle;\n",
              "    }\n",
              "\n",
              "    .dataframe tbody tr th {\n",
              "        vertical-align: top;\n",
              "    }\n",
              "\n",
              "    .dataframe thead th {\n",
              "        text-align: right;\n",
              "    }\n",
              "</style>\n",
              "<table border=\"1\" class=\"dataframe\">\n",
              "  <thead>\n",
              "    <tr style=\"text-align: right;\">\n",
              "      <th></th>\n",
              "      <th>0</th>\n",
              "    </tr>\n",
              "  </thead>\n",
              "  <tbody>\n",
              "    <tr>\n",
              "      <th>ADF_p</th>\n",
              "      <td>0.059524</td>\n",
              "    </tr>\n",
              "    <tr>\n",
              "      <th>ADF_stat</th>\n",
              "      <td>-3.342724</td>\n",
              "    </tr>\n",
              "    <tr>\n",
              "      <th>KPSS_p</th>\n",
              "      <td>0.010000</td>\n",
              "    </tr>\n",
              "    <tr>\n",
              "      <th>KPSS_stat</th>\n",
              "      <td>5.356834</td>\n",
              "    </tr>\n",
              "  </tbody>\n",
              "</table>\n",
              "</div><br><label><b>dtype:</b> float64</label>"
            ]
          },
          "metadata": {},
          "execution_count": 117
        }
      ]
    },
    {
      "cell_type": "code",
      "source": [
        "resid_lag = resid.shift().fillna(0)"
      ],
      "metadata": {
        "id": "_t-tdqt2TiWN"
      },
      "execution_count": 132,
      "outputs": []
    },
    {
      "cell_type": "code",
      "source": [
        "dXt = Xt.diff().fillna(0)\n",
        "dYt = Yt.diff().fillna(0)"
      ],
      "metadata": {
        "id": "UMO8zdeYWYya"
      },
      "execution_count": 133,
      "outputs": []
    },
    {
      "cell_type": "code",
      "source": [
        "ecm_df = pd.DataFrame({\"dy\": dYt, \"dx\": dXt, \"resid_lag\": resid_lag})"
      ],
      "metadata": {
        "id": "zqxy6G_PWwmN"
      },
      "execution_count": 135,
      "outputs": []
    },
    {
      "cell_type": "code",
      "source": [
        "print(\"NaNs per column:\\n\", ecm_df.isna().sum())\n",
        "print(\"Infinite values per column:\\n\", np.isinf(ecm_df.values).sum(axis=0))"
      ],
      "metadata": {
        "colab": {
          "base_uri": "https://localhost:8080/"
        },
        "id": "ccKrb38dX_Ww",
        "outputId": "41dbfb86-84b4-429b-9ff8-86f02ac06716"
      },
      "execution_count": 136,
      "outputs": [
        {
          "output_type": "stream",
          "name": "stdout",
          "text": [
            "NaNs per column:\n",
            " dy           0\n",
            "dx           0\n",
            "resid_lag    0\n",
            "dtype: int64\n",
            "Infinite values per column:\n",
            " [0 0 0]\n"
          ]
        }
      ]
    },
    {
      "cell_type": "code",
      "source": [
        "ecm_model = sm.OLS(ecm_df[\"dy\"], sm.add_constant(ecm_df[[\"dx\", \"resid_lag\"]])).fit()\n",
        "print(\"\\nError Correction Model Summary:\")\n",
        "print(ecm_model.summary())"
      ],
      "metadata": {
        "colab": {
          "base_uri": "https://localhost:8080/"
        },
        "id": "6EQvgYROW_V4",
        "outputId": "ddc55442-3598-4fd4-a64e-da427e7c3498"
      },
      "execution_count": 137,
      "outputs": [
        {
          "output_type": "stream",
          "name": "stdout",
          "text": [
            "\n",
            "Error Correction Model Summary:\n",
            "                            OLS Regression Results                            \n",
            "==============================================================================\n",
            "Dep. Variable:                     dy   R-squared:                       0.533\n",
            "Model:                            OLS   Adj. R-squared:                  0.532\n",
            "Method:                 Least Squares   F-statistic:                     1003.\n",
            "Date:                Sun, 18 May 2025   Prob (F-statistic):          1.88e-291\n",
            "Time:                        03:13:15   Log-Likelihood:                 336.59\n",
            "No. Observations:                1762   AIC:                            -667.2\n",
            "Df Residuals:                    1759   BIC:                            -650.7\n",
            "Df Model:                           2                                         \n",
            "Covariance Type:            nonrobust                                         \n",
            "==============================================================================\n",
            "                 coef    std err          t      P>|t|      [0.025      0.975]\n",
            "------------------------------------------------------------------------------\n",
            "const          0.0139      0.005      2.925      0.003       0.005       0.023\n",
            "dx            -0.1289      0.003    -44.770      0.000      -0.135      -0.123\n",
            "resid_lag     -0.0009      0.001     -1.243      0.214      -0.002       0.001\n",
            "==============================================================================\n",
            "Omnibus:                      137.508   Durbin-Watson:                   2.069\n",
            "Prob(Omnibus):                  0.000   Jarque-Bera (JB):              709.437\n",
            "Skew:                          -0.120   Prob(JB):                    8.87e-155\n",
            "Kurtosis:                       6.099   Cond. No.                         6.80\n",
            "==============================================================================\n",
            "\n",
            "Notes:\n",
            "[1] Standard Errors assume that the covariance matrix of the errors is correctly specified.\n"
          ]
        }
      ]
    },
    {
      "cell_type": "markdown",
      "source": [
        "Almost 0 coef for resid_lag, no mean reverting behavior\n",
        "But, strong coef of delta dx: There might be causalty\n",
        "We will go ahead of testing for Grangers."
      ],
      "metadata": {
        "id": "Fe4k5GRNZVFL"
      }
    },
    {
      "cell_type": "code",
      "source": [],
      "metadata": {
        "id": "Z1SM3m8ZXKpS"
      },
      "execution_count": null,
      "outputs": []
    }
  ]
}